{
 "cells": [
  {
   "cell_type": "markdown",
   "metadata": {
    "id": "BHg0HZz-intQ"
   },
   "source": [
    "# Introduction"
   ]
  },
  {
   "cell_type": "markdown",
   "metadata": {
    "id": "V2RQkgAbiqJv"
   },
   "source": [
    "The National Longitudinal Survey of Youth 1997-2011 dataset is one of the most important databases available to social scientists working with US data. \n",
    "\n",
    "It allows scientists to look at the determinants of earnings as well as educational attainment and has incredible relevance for government policy. It can also shed light on politically sensitive issues like how different educational attainment and salaries are for people of different ethnicity, sex, and other factors. When we have a better understanding how these variables affect education and earnings we can also formulate more suitable government policies. \n",
    "\n",
    "<center><img src=https://i.imgur.com/cxBpQ3I.png height=400></center>\n"
   ]
  },
  {
   "cell_type": "markdown",
   "metadata": {
    "id": "YjCPWWUSirY_"
   },
   "source": [
    "### Upgrade Plotly"
   ]
  },
  {
   "cell_type": "code",
   "execution_count": 1,
   "metadata": {
    "id": "v74l3QCGirIX"
   },
   "outputs": [
    {
     "name": "stdout",
     "output_type": "stream",
     "text": [
      "Requirement already up-to-date: plotly in c:\\users\\shoun\\anaconda3\\lib\\site-packages (5.0.0)\n",
      "Requirement already satisfied, skipping upgrade: six in c:\\users\\shoun\\anaconda3\\lib\\site-packages (from plotly) (1.15.0)\n",
      "Requirement already satisfied, skipping upgrade: tenacity>=6.2.0 in c:\\users\\shoun\\anaconda3\\lib\\site-packages (from plotly) (7.0.0)\n",
      "Note: you may need to restart the kernel to use updated packages.\n"
     ]
    }
   ],
   "source": [
    "%pip install --upgrade plotly"
   ]
  },
  {
   "cell_type": "markdown",
   "metadata": {
    "id": "br_QkHBMjC1Q"
   },
   "source": [
    "###  Import Statements\n"
   ]
  },
  {
   "cell_type": "code",
   "execution_count": 2,
   "metadata": {
    "id": "gSKZx-kwie_u"
   },
   "outputs": [],
   "source": [
    "import pandas as pd\n",
    "import numpy as np\n",
    "\n",
    "import seaborn as sns\n",
    "import plotly.express as px\n",
    "import matplotlib.pyplot as plt\n",
    "\n",
    "from sklearn.linear_model import LinearRegression\n",
    "from sklearn.model_selection import train_test_split"
   ]
  },
  {
   "cell_type": "markdown",
   "metadata": {
    "id": "9pgsrth_izCn"
   },
   "source": [
    "## Notebook Presentation"
   ]
  },
  {
   "cell_type": "code",
   "execution_count": 3,
   "metadata": {
    "id": "Cgwu-WbBizqY"
   },
   "outputs": [],
   "source": [
    "pd.options.display.float_format = '{:,.2f}'.format"
   ]
  },
  {
   "cell_type": "markdown",
   "metadata": {
    "id": "E5bhysOOjLRr"
   },
   "source": [
    "# Load the Data\n",
    "\n"
   ]
  },
  {
   "cell_type": "code",
   "execution_count": 4,
   "metadata": {
    "id": "6VngeTQwjM-X"
   },
   "outputs": [],
   "source": [
    "df_data = pd.read_csv('NLSY97_subset.csv')"
   ]
  },
  {
   "cell_type": "code",
   "execution_count": 5,
   "metadata": {},
   "outputs": [],
   "source": [
    "big_df = pd.read_csv(\"NLSY97_Variable_Names_and_Descriptions.csv\")"
   ]
  },
  {
   "cell_type": "code",
   "execution_count": 6,
   "metadata": {},
   "outputs": [
    {
     "data": {
      "text/html": [
       "<div>\n",
       "<style scoped>\n",
       "    .dataframe tbody tr th:only-of-type {\n",
       "        vertical-align: middle;\n",
       "    }\n",
       "\n",
       "    .dataframe tbody tr th {\n",
       "        vertical-align: top;\n",
       "    }\n",
       "\n",
       "    .dataframe thead th {\n",
       "        text-align: right;\n",
       "    }\n",
       "</style>\n",
       "<table border=\"1\" class=\"dataframe\">\n",
       "  <thead>\n",
       "    <tr style=\"text-align: right;\">\n",
       "      <th></th>\n",
       "      <th>Personal variables</th>\n",
       "      <th>Variable Type</th>\n",
       "      <th>Description</th>\n",
       "    </tr>\n",
       "  </thead>\n",
       "  <tbody>\n",
       "    <tr>\n",
       "      <th>0</th>\n",
       "      <td>FEMALE</td>\n",
       "      <td>D</td>\n",
       "      <td>Sex of respondent (0 if male, 1 if female)</td>\n",
       "    </tr>\n",
       "    <tr>\n",
       "      <th>1</th>\n",
       "      <td>MALE</td>\n",
       "      <td>D</td>\n",
       "      <td>Sex of respondent (1 if male, 0 if female)</td>\n",
       "    </tr>\n",
       "    <tr>\n",
       "      <th>2</th>\n",
       "      <td>NaN</td>\n",
       "      <td>NaN</td>\n",
       "      <td>NaN</td>\n",
       "    </tr>\n",
       "    <tr>\n",
       "      <th>3</th>\n",
       "      <td>Ethnicity:</td>\n",
       "      <td>NaN</td>\n",
       "      <td>NaN</td>\n",
       "    </tr>\n",
       "    <tr>\n",
       "      <th>4</th>\n",
       "      <td>ETHBLACK</td>\n",
       "      <td>D</td>\n",
       "      <td>Black</td>\n",
       "    </tr>\n",
       "    <tr>\n",
       "      <th>...</th>\n",
       "      <td>...</td>\n",
       "      <td>...</td>\n",
       "      <td>...</td>\n",
       "    </tr>\n",
       "    <tr>\n",
       "      <th>117</th>\n",
       "      <td>URBAN</td>\n",
       "      <td>D</td>\n",
       "      <td>Living in an urban area</td>\n",
       "    </tr>\n",
       "    <tr>\n",
       "      <th>118</th>\n",
       "      <td>REGNE</td>\n",
       "      <td>D</td>\n",
       "      <td>Census region North east</td>\n",
       "    </tr>\n",
       "    <tr>\n",
       "      <th>119</th>\n",
       "      <td>REGNC</td>\n",
       "      <td>D</td>\n",
       "      <td>Census region North central</td>\n",
       "    </tr>\n",
       "    <tr>\n",
       "      <th>120</th>\n",
       "      <td>REGW</td>\n",
       "      <td>D</td>\n",
       "      <td>Census region West</td>\n",
       "    </tr>\n",
       "    <tr>\n",
       "      <th>121</th>\n",
       "      <td>REGS</td>\n",
       "      <td>D</td>\n",
       "      <td>Census region South</td>\n",
       "    </tr>\n",
       "  </tbody>\n",
       "</table>\n",
       "<p>122 rows × 3 columns</p>\n",
       "</div>"
      ],
      "text/plain": [
       "    Personal variables Variable Type  \\\n",
       "0               FEMALE             D   \n",
       "1                 MALE             D   \n",
       "2                  NaN           NaN   \n",
       "3           Ethnicity:           NaN   \n",
       "4             ETHBLACK             D   \n",
       "..                 ...           ...   \n",
       "117              URBAN             D   \n",
       "118              REGNE             D   \n",
       "119              REGNC             D   \n",
       "120               REGW             D   \n",
       "121               REGS             D   \n",
       "\n",
       "                                    Description  \n",
       "0    Sex of respondent (0 if male, 1 if female)  \n",
       "1    Sex of respondent (1 if male, 0 if female)  \n",
       "2                                           NaN  \n",
       "3                                           NaN  \n",
       "4                                         Black  \n",
       "..                                          ...  \n",
       "117                     Living in an urban area  \n",
       "118                    Census region North east  \n",
       "119                 Census region North central  \n",
       "120                          Census region West  \n",
       "121                         Census region South  \n",
       "\n",
       "[122 rows x 3 columns]"
      ]
     },
     "execution_count": 6,
     "metadata": {},
     "output_type": "execute_result"
    }
   ],
   "source": [
    "big_df"
   ]
  },
  {
   "cell_type": "code",
   "execution_count": 7,
   "metadata": {},
   "outputs": [
    {
     "data": {
      "text/html": [
       "<div>\n",
       "<style scoped>\n",
       "    .dataframe tbody tr th:only-of-type {\n",
       "        vertical-align: middle;\n",
       "    }\n",
       "\n",
       "    .dataframe tbody tr th {\n",
       "        vertical-align: top;\n",
       "    }\n",
       "\n",
       "    .dataframe thead th {\n",
       "        text-align: right;\n",
       "    }\n",
       "</style>\n",
       "<table border=\"1\" class=\"dataframe\">\n",
       "  <thead>\n",
       "    <tr style=\"text-align: right;\">\n",
       "      <th></th>\n",
       "      <th>ID</th>\n",
       "      <th>EARNINGS</th>\n",
       "      <th>S</th>\n",
       "      <th>EXP</th>\n",
       "      <th>FEMALE</th>\n",
       "      <th>MALE</th>\n",
       "      <th>BYEAR</th>\n",
       "      <th>AGE</th>\n",
       "      <th>AGEMBTH</th>\n",
       "      <th>HHINC97</th>\n",
       "      <th>...</th>\n",
       "      <th>URBAN</th>\n",
       "      <th>REGNE</th>\n",
       "      <th>REGNC</th>\n",
       "      <th>REGW</th>\n",
       "      <th>REGS</th>\n",
       "      <th>MSA11NO</th>\n",
       "      <th>MSA11NCC</th>\n",
       "      <th>MSA11CC</th>\n",
       "      <th>MSA11NK</th>\n",
       "      <th>MSA11NIC</th>\n",
       "    </tr>\n",
       "  </thead>\n",
       "  <tbody>\n",
       "    <tr>\n",
       "      <th>0</th>\n",
       "      <td>4275</td>\n",
       "      <td>18.50</td>\n",
       "      <td>12</td>\n",
       "      <td>9.71</td>\n",
       "      <td>0</td>\n",
       "      <td>1</td>\n",
       "      <td>1984</td>\n",
       "      <td>27</td>\n",
       "      <td>24.00</td>\n",
       "      <td>64,000.00</td>\n",
       "      <td>...</td>\n",
       "      <td>1</td>\n",
       "      <td>0</td>\n",
       "      <td>0</td>\n",
       "      <td>1</td>\n",
       "      <td>0</td>\n",
       "      <td>0</td>\n",
       "      <td>0</td>\n",
       "      <td>1</td>\n",
       "      <td>0</td>\n",
       "      <td>0</td>\n",
       "    </tr>\n",
       "    <tr>\n",
       "      <th>1</th>\n",
       "      <td>4328</td>\n",
       "      <td>19.23</td>\n",
       "      <td>17</td>\n",
       "      <td>5.71</td>\n",
       "      <td>0</td>\n",
       "      <td>1</td>\n",
       "      <td>1982</td>\n",
       "      <td>29</td>\n",
       "      <td>32.00</td>\n",
       "      <td>6,000.00</td>\n",
       "      <td>...</td>\n",
       "      <td>2</td>\n",
       "      <td>0</td>\n",
       "      <td>0</td>\n",
       "      <td>1</td>\n",
       "      <td>0</td>\n",
       "      <td>0</td>\n",
       "      <td>1</td>\n",
       "      <td>0</td>\n",
       "      <td>0</td>\n",
       "      <td>0</td>\n",
       "    </tr>\n",
       "    <tr>\n",
       "      <th>2</th>\n",
       "      <td>8763</td>\n",
       "      <td>39.05</td>\n",
       "      <td>14</td>\n",
       "      <td>9.94</td>\n",
       "      <td>0</td>\n",
       "      <td>1</td>\n",
       "      <td>1981</td>\n",
       "      <td>30</td>\n",
       "      <td>23.00</td>\n",
       "      <td>88,252.00</td>\n",
       "      <td>...</td>\n",
       "      <td>1</td>\n",
       "      <td>0</td>\n",
       "      <td>0</td>\n",
       "      <td>0</td>\n",
       "      <td>1</td>\n",
       "      <td>0</td>\n",
       "      <td>0</td>\n",
       "      <td>1</td>\n",
       "      <td>0</td>\n",
       "      <td>0</td>\n",
       "    </tr>\n",
       "    <tr>\n",
       "      <th>3</th>\n",
       "      <td>8879</td>\n",
       "      <td>16.80</td>\n",
       "      <td>18</td>\n",
       "      <td>1.54</td>\n",
       "      <td>0</td>\n",
       "      <td>1</td>\n",
       "      <td>1983</td>\n",
       "      <td>28</td>\n",
       "      <td>30.00</td>\n",
       "      <td>nan</td>\n",
       "      <td>...</td>\n",
       "      <td>1</td>\n",
       "      <td>0</td>\n",
       "      <td>1</td>\n",
       "      <td>0</td>\n",
       "      <td>0</td>\n",
       "      <td>0</td>\n",
       "      <td>1</td>\n",
       "      <td>0</td>\n",
       "      <td>0</td>\n",
       "      <td>0</td>\n",
       "    </tr>\n",
       "    <tr>\n",
       "      <th>4</th>\n",
       "      <td>1994</td>\n",
       "      <td>36.06</td>\n",
       "      <td>15</td>\n",
       "      <td>2.94</td>\n",
       "      <td>0</td>\n",
       "      <td>1</td>\n",
       "      <td>1984</td>\n",
       "      <td>27</td>\n",
       "      <td>23.00</td>\n",
       "      <td>44,188.00</td>\n",
       "      <td>...</td>\n",
       "      <td>1</td>\n",
       "      <td>0</td>\n",
       "      <td>0</td>\n",
       "      <td>0</td>\n",
       "      <td>1</td>\n",
       "      <td>0</td>\n",
       "      <td>0</td>\n",
       "      <td>1</td>\n",
       "      <td>0</td>\n",
       "      <td>0</td>\n",
       "    </tr>\n",
       "    <tr>\n",
       "      <th>...</th>\n",
       "      <td>...</td>\n",
       "      <td>...</td>\n",
       "      <td>...</td>\n",
       "      <td>...</td>\n",
       "      <td>...</td>\n",
       "      <td>...</td>\n",
       "      <td>...</td>\n",
       "      <td>...</td>\n",
       "      <td>...</td>\n",
       "      <td>...</td>\n",
       "      <td>...</td>\n",
       "      <td>...</td>\n",
       "      <td>...</td>\n",
       "      <td>...</td>\n",
       "      <td>...</td>\n",
       "      <td>...</td>\n",
       "      <td>...</td>\n",
       "      <td>...</td>\n",
       "      <td>...</td>\n",
       "      <td>...</td>\n",
       "      <td>...</td>\n",
       "    </tr>\n",
       "    <tr>\n",
       "      <th>1995</th>\n",
       "      <td>2456</td>\n",
       "      <td>14.00</td>\n",
       "      <td>8</td>\n",
       "      <td>7.87</td>\n",
       "      <td>1</td>\n",
       "      <td>0</td>\n",
       "      <td>1982</td>\n",
       "      <td>29</td>\n",
       "      <td>19.00</td>\n",
       "      <td>6,000.00</td>\n",
       "      <td>...</td>\n",
       "      <td>1</td>\n",
       "      <td>1</td>\n",
       "      <td>0</td>\n",
       "      <td>0</td>\n",
       "      <td>0</td>\n",
       "      <td>0</td>\n",
       "      <td>1</td>\n",
       "      <td>0</td>\n",
       "      <td>0</td>\n",
       "      <td>0</td>\n",
       "    </tr>\n",
       "    <tr>\n",
       "      <th>1996</th>\n",
       "      <td>1119</td>\n",
       "      <td>14.83</td>\n",
       "      <td>18</td>\n",
       "      <td>1.92</td>\n",
       "      <td>1</td>\n",
       "      <td>0</td>\n",
       "      <td>1983</td>\n",
       "      <td>28</td>\n",
       "      <td>28.00</td>\n",
       "      <td>50,000.00</td>\n",
       "      <td>...</td>\n",
       "      <td>1</td>\n",
       "      <td>1</td>\n",
       "      <td>0</td>\n",
       "      <td>0</td>\n",
       "      <td>0</td>\n",
       "      <td>0</td>\n",
       "      <td>1</td>\n",
       "      <td>0</td>\n",
       "      <td>0</td>\n",
       "      <td>0</td>\n",
       "    </tr>\n",
       "    <tr>\n",
       "      <th>1997</th>\n",
       "      <td>3561</td>\n",
       "      <td>35.88</td>\n",
       "      <td>18</td>\n",
       "      <td>2.67</td>\n",
       "      <td>1</td>\n",
       "      <td>0</td>\n",
       "      <td>1984</td>\n",
       "      <td>27</td>\n",
       "      <td>29.00</td>\n",
       "      <td>77,610.00</td>\n",
       "      <td>...</td>\n",
       "      <td>1</td>\n",
       "      <td>0</td>\n",
       "      <td>0</td>\n",
       "      <td>1</td>\n",
       "      <td>0</td>\n",
       "      <td>0</td>\n",
       "      <td>0</td>\n",
       "      <td>1</td>\n",
       "      <td>0</td>\n",
       "      <td>0</td>\n",
       "    </tr>\n",
       "    <tr>\n",
       "      <th>1998</th>\n",
       "      <td>5980</td>\n",
       "      <td>25.48</td>\n",
       "      <td>16</td>\n",
       "      <td>4.71</td>\n",
       "      <td>1</td>\n",
       "      <td>0</td>\n",
       "      <td>1982</td>\n",
       "      <td>29</td>\n",
       "      <td>23.00</td>\n",
       "      <td>69,300.00</td>\n",
       "      <td>...</td>\n",
       "      <td>0</td>\n",
       "      <td>0</td>\n",
       "      <td>0</td>\n",
       "      <td>1</td>\n",
       "      <td>0</td>\n",
       "      <td>0</td>\n",
       "      <td>1</td>\n",
       "      <td>0</td>\n",
       "      <td>0</td>\n",
       "      <td>0</td>\n",
       "    </tr>\n",
       "    <tr>\n",
       "      <th>1999</th>\n",
       "      <td>6221</td>\n",
       "      <td>13.33</td>\n",
       "      <td>14</td>\n",
       "      <td>6.48</td>\n",
       "      <td>1</td>\n",
       "      <td>0</td>\n",
       "      <td>1984</td>\n",
       "      <td>27</td>\n",
       "      <td>30.00</td>\n",
       "      <td>40,020.00</td>\n",
       "      <td>...</td>\n",
       "      <td>1</td>\n",
       "      <td>0</td>\n",
       "      <td>0</td>\n",
       "      <td>1</td>\n",
       "      <td>0</td>\n",
       "      <td>0</td>\n",
       "      <td>1</td>\n",
       "      <td>0</td>\n",
       "      <td>0</td>\n",
       "      <td>0</td>\n",
       "    </tr>\n",
       "  </tbody>\n",
       "</table>\n",
       "<p>2000 rows × 96 columns</p>\n",
       "</div>"
      ],
      "text/plain": [
       "        ID  EARNINGS   S  EXP  FEMALE  MALE  BYEAR  AGE  AGEMBTH   HHINC97  \\\n",
       "0     4275     18.50  12 9.71       0     1   1984   27    24.00 64,000.00   \n",
       "1     4328     19.23  17 5.71       0     1   1982   29    32.00  6,000.00   \n",
       "2     8763     39.05  14 9.94       0     1   1981   30    23.00 88,252.00   \n",
       "3     8879     16.80  18 1.54       0     1   1983   28    30.00       nan   \n",
       "4     1994     36.06  15 2.94       0     1   1984   27    23.00 44,188.00   \n",
       "...    ...       ...  ..  ...     ...   ...    ...  ...      ...       ...   \n",
       "1995  2456     14.00   8 7.87       1     0   1982   29    19.00  6,000.00   \n",
       "1996  1119     14.83  18 1.92       1     0   1983   28    28.00 50,000.00   \n",
       "1997  3561     35.88  18 2.67       1     0   1984   27    29.00 77,610.00   \n",
       "1998  5980     25.48  16 4.71       1     0   1982   29    23.00 69,300.00   \n",
       "1999  6221     13.33  14 6.48       1     0   1984   27    30.00 40,020.00   \n",
       "\n",
       "      ...  URBAN  REGNE  REGNC  REGW  REGS  MSA11NO  MSA11NCC  MSA11CC  \\\n",
       "0     ...      1      0      0     1     0        0         0        1   \n",
       "1     ...      2      0      0     1     0        0         1        0   \n",
       "2     ...      1      0      0     0     1        0         0        1   \n",
       "3     ...      1      0      1     0     0        0         1        0   \n",
       "4     ...      1      0      0     0     1        0         0        1   \n",
       "...   ...    ...    ...    ...   ...   ...      ...       ...      ...   \n",
       "1995  ...      1      1      0     0     0        0         1        0   \n",
       "1996  ...      1      1      0     0     0        0         1        0   \n",
       "1997  ...      1      0      0     1     0        0         0        1   \n",
       "1998  ...      0      0      0     1     0        0         1        0   \n",
       "1999  ...      1      0      0     1     0        0         1        0   \n",
       "\n",
       "      MSA11NK  MSA11NIC  \n",
       "0           0         0  \n",
       "1           0         0  \n",
       "2           0         0  \n",
       "3           0         0  \n",
       "4           0         0  \n",
       "...       ...       ...  \n",
       "1995        0         0  \n",
       "1996        0         0  \n",
       "1997        0         0  \n",
       "1998        0         0  \n",
       "1999        0         0  \n",
       "\n",
       "[2000 rows x 96 columns]"
      ]
     },
     "execution_count": 7,
     "metadata": {},
     "output_type": "execute_result"
    }
   ],
   "source": [
    "df_data"
   ]
  },
  {
   "cell_type": "markdown",
   "metadata": {
    "id": "_ZjIBJ5jjrj0"
   },
   "source": [
    "### Understand the Dataset\n",
    "\n",
    "Have a look at the file entitled `NLSY97_Variable_Names_and_Descriptions.csv`. \n",
    "\n",
    "---------------------------\n",
    "\n",
    "    :Key Variables:  \n",
    "      1. S           Years of schooling (highest grade completed as of 2011)\n",
    "      2. EXP         Total out-of-school work experience (years) as of the 2011 interview.\n",
    "      3. EARNINGS    Current hourly earnings in $ reported at the 2011 interview"
   ]
  },
  {
   "cell_type": "markdown",
   "metadata": {
    "id": "8MkSxkjVnIfW"
   },
   "source": [
    "# Preliminary Data Exploration 🔎\n",
    "\n",
    "**Challenge**\n",
    "\n",
    "* What is the shape of `df_data`? \n",
    "* How many rows and columns does it have?\n",
    "* What are the column names?\n",
    "* Are there any NaN values or duplicates?"
   ]
  },
  {
   "cell_type": "code",
   "execution_count": 8,
   "metadata": {
    "id": "V_cQguBbjwZv"
   },
   "outputs": [
    {
     "name": "stdout",
     "output_type": "stream",
     "text": [
      "What is the shape of `df_data`? \n",
      "The shape of the datatset is (2000, 96)\n",
      "\n",
      "How many rows and columns does it have?\n",
      "Rows: 2000\n",
      "Columns: 96\n",
      "\n",
      "What are the column names?\n",
      "Column names: Index(['ID', 'EARNINGS', 'S', 'EXP', 'FEMALE', 'MALE', 'BYEAR', 'AGE',\n",
      "       'AGEMBTH', 'HHINC97', 'POVRAT97', 'HHBMBF', 'HHBMOF', 'HHOMBF',\n",
      "       'HHBMONLY', 'HHBFONLY', 'HHOTHER', 'MSA97NO', 'MSA97NCC', 'MSA97CC',\n",
      "       'MSA97NK', 'ETHBLACK', 'ETHHISP', 'ETHWHITE', 'EDUCPROF', 'EDUCPHD',\n",
      "       'EDUCMAST', 'EDUCBA', 'EDUCAA', 'EDUCHSD', 'EDUCGED', 'EDUCDO',\n",
      "       'PRMONM', 'PRMONF', 'PRMSTYUN', 'PRMSTYPE', 'PRMSTYAN', 'PRMSTYAE',\n",
      "       'PRFSTYUN', 'PRFSTYPE', 'PRFSTYAN', 'PRFSTYAE', 'SINGLE', 'MARRIED',\n",
      "       'COHABIT', 'OTHSING', 'FAITHN', 'FAITHP', 'FAITHC', 'FAITHJ', 'FAITHO',\n",
      "       'FAITHM', 'ASVABAR', 'ASVABWK', 'ASVABPC', 'ASVABMK', 'ASVABNO',\n",
      "       'ASVABCS', 'ASVABC', 'ASVABC4', 'VERBAL', 'ASVABMV', 'HEIGHT',\n",
      "       'WEIGHT04', 'WEIGHT11', 'SF', 'SM', 'SFR', 'SMR', 'SIBLINGS', 'REG97NE',\n",
      "       'REG97NC', 'REG97S', 'REG97W', 'RS97RURL', 'RS97URBN', 'RS97UNKN',\n",
      "       'JOBS', 'HOURS', 'TENURE', 'CATGOV', 'CATPRI', 'CATNPO', 'CATMIS',\n",
      "       'CATSE', 'COLLBARG', 'URBAN', 'REGNE', 'REGNC', 'REGW', 'REGS',\n",
      "       'MSA11NO', 'MSA11NCC', 'MSA11CC', 'MSA11NK', 'MSA11NIC'],\n",
      "      dtype='object')\n",
      "\n",
      "Are there any NaN values or duplicates?\n",
      "NaN values: ID          False\n",
      "EARNINGS    False\n",
      "S           False\n",
      "EXP         False\n",
      "FEMALE      False\n",
      "            ...  \n",
      "MSA11NO     False\n",
      "MSA11NCC    False\n",
      "MSA11CC     False\n",
      "MSA11NK     False\n",
      "MSA11NIC    False\n",
      "Length: 96, dtype: bool\n",
      "Duplicates values: 0       False\n",
      "1       False\n",
      "2       False\n",
      "3       False\n",
      "4       False\n",
      "        ...  \n",
      "1995    False\n",
      "1996     True\n",
      "1997     True\n",
      "1998     True\n",
      "1999     True\n",
      "Length: 2000, dtype: bool\n",
      "\n"
     ]
    }
   ],
   "source": [
    "print('What is the shape of `df_data`? ')\n",
    "print(f\"The shape of the datatset is {df_data.shape}\")\n",
    "print()\n",
    "print('How many rows and columns does it have?')\n",
    "print(f\"Rows: {df_data.shape[0]}\\nColumns: {df_data.shape[1]}\")\n",
    "print()\n",
    "print('What are the column names?')\n",
    "print(f\"Column names: {df_data.columns}\")\n",
    "print()\n",
    "print('Are there any NaN values or duplicates?')\n",
    "print(f\"NaN values: {df_data.isna().any()}\\nDuplicates values: {df_data.duplicated()}\")\n",
    "print()"
   ]
  },
  {
   "cell_type": "markdown",
   "metadata": {
    "id": "4itxqgP6nQj3"
   },
   "source": [
    "## Data Cleaning - Check for Missing Values and Duplicates\n",
    "\n",
    "Find and remove any duplicate rows."
   ]
  },
  {
   "cell_type": "code",
   "execution_count": 9,
   "metadata": {
    "id": "J3DHEFXWnS2N"
   },
   "outputs": [
    {
     "data": {
      "text/html": [
       "<div>\n",
       "<style scoped>\n",
       "    .dataframe tbody tr th:only-of-type {\n",
       "        vertical-align: middle;\n",
       "    }\n",
       "\n",
       "    .dataframe tbody tr th {\n",
       "        vertical-align: top;\n",
       "    }\n",
       "\n",
       "    .dataframe thead th {\n",
       "        text-align: right;\n",
       "    }\n",
       "</style>\n",
       "<table border=\"1\" class=\"dataframe\">\n",
       "  <thead>\n",
       "    <tr style=\"text-align: right;\">\n",
       "      <th></th>\n",
       "      <th>AGEMBTH</th>\n",
       "      <th>HHINC97</th>\n",
       "      <th>POVRAT97</th>\n",
       "      <th>PRMONM</th>\n",
       "      <th>PRMONF</th>\n",
       "      <th>PRMSTYUN</th>\n",
       "      <th>PRMSTYPE</th>\n",
       "      <th>PRMSTYAN</th>\n",
       "      <th>PRMSTYAE</th>\n",
       "      <th>PRFSTYUN</th>\n",
       "      <th>PRFSTYPE</th>\n",
       "      <th>PRFSTYAN</th>\n",
       "      <th>PRFSTYAE</th>\n",
       "      <th>SFR</th>\n",
       "      <th>SMR</th>\n",
       "      <th>JOBS</th>\n",
       "    </tr>\n",
       "  </thead>\n",
       "  <tbody>\n",
       "    <tr>\n",
       "      <th>0</th>\n",
       "      <td>24.00</td>\n",
       "      <td>64,000.00</td>\n",
       "      <td>402.00</td>\n",
       "      <td>14.00</td>\n",
       "      <td>14.00</td>\n",
       "      <td>0.00</td>\n",
       "      <td>0.00</td>\n",
       "      <td>0.00</td>\n",
       "      <td>1.00</td>\n",
       "      <td>0.00</td>\n",
       "      <td>0.00</td>\n",
       "      <td>0.00</td>\n",
       "      <td>1.00</td>\n",
       "      <td>12.00</td>\n",
       "      <td>12.00</td>\n",
       "      <td>6.00</td>\n",
       "    </tr>\n",
       "    <tr>\n",
       "      <th>1</th>\n",
       "      <td>32.00</td>\n",
       "      <td>6,000.00</td>\n",
       "      <td>38.00</td>\n",
       "      <td>12.00</td>\n",
       "      <td>12.00</td>\n",
       "      <td>0.00</td>\n",
       "      <td>0.00</td>\n",
       "      <td>0.00</td>\n",
       "      <td>1.00</td>\n",
       "      <td>0.00</td>\n",
       "      <td>0.00</td>\n",
       "      <td>0.00</td>\n",
       "      <td>1.00</td>\n",
       "      <td>16.00</td>\n",
       "      <td>12.00</td>\n",
       "      <td>nan</td>\n",
       "    </tr>\n",
       "    <tr>\n",
       "      <th>2</th>\n",
       "      <td>23.00</td>\n",
       "      <td>88,252.00</td>\n",
       "      <td>555.00</td>\n",
       "      <td>nan</td>\n",
       "      <td>nan</td>\n",
       "      <td>nan</td>\n",
       "      <td>nan</td>\n",
       "      <td>nan</td>\n",
       "      <td>nan</td>\n",
       "      <td>nan</td>\n",
       "      <td>nan</td>\n",
       "      <td>nan</td>\n",
       "      <td>nan</td>\n",
       "      <td>nan</td>\n",
       "      <td>6.00</td>\n",
       "      <td>3.00</td>\n",
       "    </tr>\n",
       "    <tr>\n",
       "      <th>3</th>\n",
       "      <td>30.00</td>\n",
       "      <td>nan</td>\n",
       "      <td>nan</td>\n",
       "      <td>6.00</td>\n",
       "      <td>4.00</td>\n",
       "      <td>0.00</td>\n",
       "      <td>1.00</td>\n",
       "      <td>0.00</td>\n",
       "      <td>0.00</td>\n",
       "      <td>1.00</td>\n",
       "      <td>0.00</td>\n",
       "      <td>0.00</td>\n",
       "      <td>0.00</td>\n",
       "      <td>14.00</td>\n",
       "      <td>14.00</td>\n",
       "      <td>10.00</td>\n",
       "    </tr>\n",
       "    <tr>\n",
       "      <th>4</th>\n",
       "      <td>23.00</td>\n",
       "      <td>44,188.00</td>\n",
       "      <td>278.00</td>\n",
       "      <td>11.00</td>\n",
       "      <td>8.00</td>\n",
       "      <td>0.00</td>\n",
       "      <td>1.00</td>\n",
       "      <td>0.00</td>\n",
       "      <td>0.00</td>\n",
       "      <td>0.00</td>\n",
       "      <td>0.00</td>\n",
       "      <td>1.00</td>\n",
       "      <td>0.00</td>\n",
       "      <td>14.00</td>\n",
       "      <td>16.00</td>\n",
       "      <td>7.00</td>\n",
       "    </tr>\n",
       "    <tr>\n",
       "      <th>...</th>\n",
       "      <td>...</td>\n",
       "      <td>...</td>\n",
       "      <td>...</td>\n",
       "      <td>...</td>\n",
       "      <td>...</td>\n",
       "      <td>...</td>\n",
       "      <td>...</td>\n",
       "      <td>...</td>\n",
       "      <td>...</td>\n",
       "      <td>...</td>\n",
       "      <td>...</td>\n",
       "      <td>...</td>\n",
       "      <td>...</td>\n",
       "      <td>...</td>\n",
       "      <td>...</td>\n",
       "      <td>...</td>\n",
       "    </tr>\n",
       "    <tr>\n",
       "      <th>1995</th>\n",
       "      <td>19.00</td>\n",
       "      <td>6,000.00</td>\n",
       "      <td>38.00</td>\n",
       "      <td>0.00</td>\n",
       "      <td>nan</td>\n",
       "      <td>1.00</td>\n",
       "      <td>0.00</td>\n",
       "      <td>0.00</td>\n",
       "      <td>0.00</td>\n",
       "      <td>nan</td>\n",
       "      <td>nan</td>\n",
       "      <td>nan</td>\n",
       "      <td>nan</td>\n",
       "      <td>nan</td>\n",
       "      <td>12.00</td>\n",
       "      <td>3.00</td>\n",
       "    </tr>\n",
       "    <tr>\n",
       "      <th>1996</th>\n",
       "      <td>28.00</td>\n",
       "      <td>50,000.00</td>\n",
       "      <td>314.00</td>\n",
       "      <td>9.00</td>\n",
       "      <td>3.00</td>\n",
       "      <td>1.00</td>\n",
       "      <td>0.00</td>\n",
       "      <td>0.00</td>\n",
       "      <td>0.00</td>\n",
       "      <td>1.00</td>\n",
       "      <td>0.00</td>\n",
       "      <td>0.00</td>\n",
       "      <td>0.00</td>\n",
       "      <td>12.00</td>\n",
       "      <td>12.00</td>\n",
       "      <td>9.00</td>\n",
       "    </tr>\n",
       "    <tr>\n",
       "      <th>1997</th>\n",
       "      <td>29.00</td>\n",
       "      <td>77,610.00</td>\n",
       "      <td>488.00</td>\n",
       "      <td>12.00</td>\n",
       "      <td>nan</td>\n",
       "      <td>0.00</td>\n",
       "      <td>0.00</td>\n",
       "      <td>0.00</td>\n",
       "      <td>1.00</td>\n",
       "      <td>nan</td>\n",
       "      <td>nan</td>\n",
       "      <td>nan</td>\n",
       "      <td>nan</td>\n",
       "      <td>16.00</td>\n",
       "      <td>16.00</td>\n",
       "      <td>8.00</td>\n",
       "    </tr>\n",
       "    <tr>\n",
       "      <th>1998</th>\n",
       "      <td>23.00</td>\n",
       "      <td>69,300.00</td>\n",
       "      <td>549.00</td>\n",
       "      <td>8.00</td>\n",
       "      <td>6.00</td>\n",
       "      <td>0.00</td>\n",
       "      <td>0.00</td>\n",
       "      <td>1.00</td>\n",
       "      <td>0.00</td>\n",
       "      <td>0.00</td>\n",
       "      <td>0.00</td>\n",
       "      <td>1.00</td>\n",
       "      <td>0.00</td>\n",
       "      <td>12.00</td>\n",
       "      <td>17.00</td>\n",
       "      <td>7.00</td>\n",
       "    </tr>\n",
       "    <tr>\n",
       "      <th>1999</th>\n",
       "      <td>30.00</td>\n",
       "      <td>40,020.00</td>\n",
       "      <td>317.00</td>\n",
       "      <td>10.00</td>\n",
       "      <td>11.00</td>\n",
       "      <td>1.00</td>\n",
       "      <td>0.00</td>\n",
       "      <td>0.00</td>\n",
       "      <td>0.00</td>\n",
       "      <td>0.00</td>\n",
       "      <td>1.00</td>\n",
       "      <td>0.00</td>\n",
       "      <td>0.00</td>\n",
       "      <td>14.00</td>\n",
       "      <td>nan</td>\n",
       "      <td>4.00</td>\n",
       "    </tr>\n",
       "  </tbody>\n",
       "</table>\n",
       "<p>2000 rows × 16 columns</p>\n",
       "</div>"
      ],
      "text/plain": [
       "      AGEMBTH   HHINC97  POVRAT97  PRMONM  PRMONF  PRMSTYUN  PRMSTYPE  \\\n",
       "0       24.00 64,000.00    402.00   14.00   14.00      0.00      0.00   \n",
       "1       32.00  6,000.00     38.00   12.00   12.00      0.00      0.00   \n",
       "2       23.00 88,252.00    555.00     nan     nan       nan       nan   \n",
       "3       30.00       nan       nan    6.00    4.00      0.00      1.00   \n",
       "4       23.00 44,188.00    278.00   11.00    8.00      0.00      1.00   \n",
       "...       ...       ...       ...     ...     ...       ...       ...   \n",
       "1995    19.00  6,000.00     38.00    0.00     nan      1.00      0.00   \n",
       "1996    28.00 50,000.00    314.00    9.00    3.00      1.00      0.00   \n",
       "1997    29.00 77,610.00    488.00   12.00     nan      0.00      0.00   \n",
       "1998    23.00 69,300.00    549.00    8.00    6.00      0.00      0.00   \n",
       "1999    30.00 40,020.00    317.00   10.00   11.00      1.00      0.00   \n",
       "\n",
       "      PRMSTYAN  PRMSTYAE  PRFSTYUN  PRFSTYPE  PRFSTYAN  PRFSTYAE   SFR   SMR  \\\n",
       "0         0.00      1.00      0.00      0.00      0.00      1.00 12.00 12.00   \n",
       "1         0.00      1.00      0.00      0.00      0.00      1.00 16.00 12.00   \n",
       "2          nan       nan       nan       nan       nan       nan   nan  6.00   \n",
       "3         0.00      0.00      1.00      0.00      0.00      0.00 14.00 14.00   \n",
       "4         0.00      0.00      0.00      0.00      1.00      0.00 14.00 16.00   \n",
       "...        ...       ...       ...       ...       ...       ...   ...   ...   \n",
       "1995      0.00      0.00       nan       nan       nan       nan   nan 12.00   \n",
       "1996      0.00      0.00      1.00      0.00      0.00      0.00 12.00 12.00   \n",
       "1997      0.00      1.00       nan       nan       nan       nan 16.00 16.00   \n",
       "1998      1.00      0.00      0.00      0.00      1.00      0.00 12.00 17.00   \n",
       "1999      0.00      0.00      0.00      1.00      0.00      0.00 14.00   nan   \n",
       "\n",
       "      JOBS  \n",
       "0     6.00  \n",
       "1      nan  \n",
       "2     3.00  \n",
       "3    10.00  \n",
       "4     7.00  \n",
       "...    ...  \n",
       "1995  3.00  \n",
       "1996  9.00  \n",
       "1997  8.00  \n",
       "1998  7.00  \n",
       "1999  4.00  \n",
       "\n",
       "[2000 rows x 16 columns]"
      ]
     },
     "execution_count": 9,
     "metadata": {},
     "output_type": "execute_result"
    }
   ],
   "source": [
    "NaN_True = df_data.isna().any()[df_data.isna().any().values == True]\n",
    "df_data[NaN_True.index]"
   ]
  },
  {
   "cell_type": "code",
   "execution_count": null,
   "metadata": {},
   "outputs": [],
   "source": []
  },
  {
   "cell_type": "code",
   "execution_count": 10,
   "metadata": {},
   "outputs": [],
   "source": [
    "mean_df = df_data.describe().iloc[1]"
   ]
  },
  {
   "cell_type": "code",
   "execution_count": 11,
   "metadata": {},
   "outputs": [
    {
     "data": {
      "text/plain": [
       "16"
      ]
     },
     "execution_count": 11,
     "metadata": {},
     "output_type": "execute_result"
    }
   ],
   "source": [
    "len(NaN_True.index)"
   ]
  },
  {
   "cell_type": "code",
   "execution_count": 12,
   "metadata": {},
   "outputs": [
    {
     "data": {
      "text/plain": [
       "Index(['AGEMBTH', 'HHINC97', 'POVRAT97', 'PRMONM', 'PRMONF', 'PRMSTYUN',\n",
       "       'PRMSTYPE', 'PRMSTYAN', 'PRMSTYAE', 'PRFSTYUN', 'PRFSTYPE', 'PRFSTYAN',\n",
       "       'PRFSTYAE', 'SFR', 'SMR', 'JOBS'],\n",
       "      dtype='object')"
      ]
     },
     "execution_count": 12,
     "metadata": {},
     "output_type": "execute_result"
    }
   ],
   "source": [
    "NaN_True.index"
   ]
  },
  {
   "cell_type": "markdown",
   "metadata": {
    "id": "gGmBBPxZnVKC"
   },
   "source": [
    "## Descriptive Statistics"
   ]
  },
  {
   "cell_type": "code",
   "execution_count": 13,
   "metadata": {
    "id": "I5VP2BMVnVrt"
   },
   "outputs": [
    {
     "data": {
      "text/plain": [
       "[26.00    167\n",
       " 25.00    155\n",
       " 23.00    153\n",
       " 28.00    147\n",
       " 24.00    137\n",
       " 27.00    126\n",
       " 29.00    117\n",
       " 30.00    113\n",
       " 22.00    110\n",
       " 31.00     88\n",
       " 32.00     84\n",
       " 21.00     83\n",
       " 20.00     73\n",
       " 19.00     65\n",
       " 33.00     59\n",
       " 34.00     57\n",
       " 18.00     53\n",
       " 35.00     41\n",
       " 17.00     26\n",
       " 37.00     23\n",
       " 36.00     22\n",
       " 38.00     13\n",
       " 16.00     12\n",
       " 39.00      8\n",
       " 40.00      7\n",
       " 41.00      4\n",
       " 15.00      4\n",
       " 14.00      3\n",
       " 12.00      2\n",
       " 43.00      2\n",
       " 13.00      1\n",
       " 45.00      1\n",
       " Name: AGEMBTH, dtype: int64,\n",
       " 246,474.00    40\n",
       " 35,000.00     17\n",
       " 65,000.00     14\n",
       " 75,000.00     14\n",
       " 45,000.00     13\n",
       "               ..\n",
       " 7,900.00       1\n",
       " 48,400.00      1\n",
       " 28,180.00      1\n",
       " 29,200.00      1\n",
       " 41,288.00      1\n",
       " Name: HHINC97, Length: 756, dtype: int64,\n",
       " 1,627.00    45\n",
       " 283.00      15\n",
       " 251.00      13\n",
       " 347.00      13\n",
       " 294.00      13\n",
       "             ..\n",
       " 245.00       1\n",
       " 506.00       1\n",
       " 430.00       1\n",
       " 165.00       1\n",
       " 649.00       1\n",
       " Name: POVRAT97, Length: 527, dtype: int64,\n",
       " 12.00    159\n",
       " 11.00    152\n",
       " 10.00    146\n",
       " 9.00     125\n",
       " 8.00     115\n",
       " 13.00     97\n",
       " 7.00      78\n",
       " 14.00     49\n",
       " 6.00      47\n",
       " 5.00      38\n",
       " 15.00     35\n",
       " 4.00      28\n",
       " 3.00      21\n",
       " 16.00     17\n",
       " 2.00       6\n",
       " 1.00       5\n",
       " 0.00       3\n",
       " Name: PRMONM, dtype: int64,\n",
       " 8.00     104\n",
       " 6.00      89\n",
       " 7.00      81\n",
       " 4.00      78\n",
       " 10.00     77\n",
       " 11.00     71\n",
       " 5.00      68\n",
       " 9.00      67\n",
       " 12.00     62\n",
       " 3.00      53\n",
       " 13.00     51\n",
       " 0.00      38\n",
       " 2.00      34\n",
       " 1.00      19\n",
       " 14.00     14\n",
       " 15.00     11\n",
       " 16.00     10\n",
       " Name: PRMONF, dtype: int64,\n",
       " 0.00    1255\n",
       " 1.00     212\n",
       " Name: PRMSTYUN, dtype: int64,\n",
       " 0.00    879\n",
       " 1.00    588\n",
       " Name: PRMSTYPE, dtype: int64,\n",
       " 0.00    1272\n",
       " 1.00     195\n",
       " Name: PRMSTYAN, dtype: int64,\n",
       " 0.00    995\n",
       " 1.00    472\n",
       " Name: PRMSTYAE, dtype: int64,\n",
       " 0.00    1011\n",
       " 1.00     199\n",
       " Name: PRFSTYUN, dtype: int64,\n",
       " 0.00    814\n",
       " 1.00    396\n",
       " Name: PRFSTYPE, dtype: int64,\n",
       " 0.00    974\n",
       " 1.00    236\n",
       " Name: PRFSTYAN, dtype: int64,\n",
       " 0.00    831\n",
       " 1.00    379\n",
       " Name: PRFSTYAE, dtype: int64,\n",
       " 12.00    521\n",
       " 16.00    262\n",
       " 14.00    249\n",
       " 18.00    106\n",
       " 13.00    105\n",
       " 11.00     57\n",
       " 20.00     52\n",
       " 15.00     49\n",
       " 9.00      47\n",
       " 17.00     37\n",
       " 19.00     27\n",
       " 10.00     26\n",
       " 8.00      21\n",
       " 6.00      11\n",
       " 7.00      10\n",
       " 4.00      10\n",
       " 5.00       6\n",
       " 3.00       5\n",
       " Name: SFR, dtype: int64,\n",
       " 12.00    656\n",
       " 16.00    304\n",
       " 14.00    303\n",
       " 13.00    184\n",
       " 18.00     99\n",
       " 17.00     63\n",
       " 11.00     58\n",
       " 15.00     55\n",
       " 10.00     45\n",
       " 9.00      45\n",
       " 20.00     33\n",
       " 8.00      26\n",
       " 6.00      16\n",
       " 19.00      9\n",
       " 7.00       8\n",
       " 4.00       7\n",
       " 2.00       3\n",
       " 5.00       2\n",
       " 3.00       1\n",
       " 1.00       1\n",
       " Name: SMR, dtype: int64,\n",
       " 4.00     273\n",
       " 5.00     265\n",
       " 3.00     260\n",
       " 6.00     227\n",
       " 7.00     180\n",
       " 2.00     154\n",
       " 8.00     153\n",
       " 9.00     114\n",
       " 10.00     92\n",
       " 11.00     69\n",
       " 1.00      64\n",
       " 13.00     21\n",
       " 14.00     18\n",
       " 12.00     18\n",
       " 15.00     16\n",
       " 16.00      9\n",
       " 19.00      7\n",
       " 17.00      6\n",
       " 18.00      4\n",
       " 21.00      2\n",
       " 24.00      1\n",
       " Name: JOBS, dtype: int64]"
      ]
     },
     "execution_count": 13,
     "metadata": {},
     "output_type": "execute_result"
    }
   ],
   "source": [
    "[df_data[NaN_True.index[i]].value_counts() for i in range(len(NaN_True))]"
   ]
  },
  {
   "cell_type": "code",
   "execution_count": 14,
   "metadata": {},
   "outputs": [
    {
     "data": {
      "text/plain": [
       "['AGE',\n",
       " 'BYEAR',\n",
       " 'HEIGHT',\n",
       " 'WEIGHT04',\n",
       " 'WEIGHT11',\n",
       " 'S',\n",
       " 'ASVABAR',\n",
       " 'ASVABWK',\n",
       " 'ASVABPC',\n",
       " 'ASVABNO',\n",
       " 'ASVABCS',\n",
       " 'ASVABC',\n",
       " 'ASVABC4',\n",
       " 'VERBAL',\n",
       " 'ASVABMV',\n",
       " 'SM',\n",
       " 'SF',\n",
       " 'SMR',\n",
       " 'SFR',\n",
       " 'SIBLINGS',\n",
       " 'AGEMBTH',\n",
       " 'HHINC97',\n",
       " 'POVRAT97',\n",
       " 'PRMONM',\n",
       " 'PRMONF',\n",
       " 'EARNINGS',\n",
       " 'HOURS',\n",
       " 'TENURE',\n",
       " 'EXP',\n",
       " 'JOBS']"
      ]
     },
     "execution_count": 14,
     "metadata": {},
     "output_type": "execute_result"
    }
   ],
   "source": [
    "cat_cols = big_df[big_df[\"Variable Type\"] == \"C\"][\"Personal variables\"].tolist()\n",
    "cat_cols"
   ]
  },
  {
   "cell_type": "code",
   "execution_count": 15,
   "metadata": {},
   "outputs": [],
   "source": [
    "# for i in range(len(cat_cols)):\n",
    "#     df_data[cat_cols[i]] = df_data[cat_cols[i]].astype(\"category\")"
   ]
  },
  {
   "cell_type": "code",
   "execution_count": 16,
   "metadata": {},
   "outputs": [
    {
     "data": {
      "text/plain": [
       "AGE             29.00\n",
       "BYEAR        1,982.00\n",
       "HEIGHT          67.00\n",
       "WEIGHT04       140.00\n",
       "WEIGHT11       180.00\n",
       "S               16.00\n",
       "ASVABAR          0.37\n",
       "ASVABWK          0.37\n",
       "ASVABPC         -0.35\n",
       "ASVABNO         -0.35\n",
       "ASVABCS          0.98\n",
       "ASVABC          -2.00\n",
       "ASVABC4         -1.89\n",
       "VERBAL          -1.50\n",
       "ASVABMV    100,000.00\n",
       "SM              12.00\n",
       "SF              12.00\n",
       "SMR             12.00\n",
       "SFR             12.00\n",
       "SIBLINGS         1.00\n",
       "AGEMBTH         26.00\n",
       "HHINC97    246,474.00\n",
       "POVRAT97     1,627.00\n",
       "PRMONM          12.00\n",
       "PRMONF           8.00\n",
       "EARNINGS        15.00\n",
       "HOURS           40.00\n",
       "TENURE           0.31\n",
       "EXP              8.69\n",
       "JOBS             4.00\n",
       "Name: 0, dtype: float64"
      ]
     },
     "execution_count": 16,
     "metadata": {},
     "output_type": "execute_result"
    }
   ],
   "source": [
    "mode_replace = df_data[cat_cols].mode().iloc[0]\n",
    "mode_replace"
   ]
  },
  {
   "cell_type": "code",
   "execution_count": 17,
   "metadata": {},
   "outputs": [],
   "source": [
    "temp_dict = dict()\n",
    "for value in NaN_True.index:\n",
    "    try:\n",
    "        temp_dict.update({value : mode_replace[f\"{value}\"]})\n",
    "    except:\n",
    "        temp_dict.update({value : \"pass\"})"
   ]
  },
  {
   "cell_type": "code",
   "execution_count": 18,
   "metadata": {},
   "outputs": [
    {
     "data": {
      "text/plain": [
       "{'AGEMBTH': 26.0,\n",
       " 'HHINC97': 246474.0,\n",
       " 'POVRAT97': 1627.0,\n",
       " 'PRMONM': 12.0,\n",
       " 'PRMONF': 8.0,\n",
       " 'PRMSTYUN': 'pass',\n",
       " 'PRMSTYPE': 'pass',\n",
       " 'PRMSTYAN': 'pass',\n",
       " 'PRMSTYAE': 'pass',\n",
       " 'PRFSTYUN': 'pass',\n",
       " 'PRFSTYPE': 'pass',\n",
       " 'PRFSTYAN': 'pass',\n",
       " 'PRFSTYAE': 'pass',\n",
       " 'SFR': 12.0,\n",
       " 'SMR': 12.0,\n",
       " 'JOBS': 4.0}"
      ]
     },
     "execution_count": 18,
     "metadata": {},
     "output_type": "execute_result"
    }
   ],
   "source": [
    "temp_dict"
   ]
  },
  {
   "cell_type": "code",
   "execution_count": 19,
   "metadata": {},
   "outputs": [],
   "source": [
    "remaining_NA_cols = []\n",
    "for (key,value) in temp_dict.items():\n",
    "    if value == \"pass\":\n",
    "        remaining_NA_cols.append(key)"
   ]
  },
  {
   "cell_type": "code",
   "execution_count": 20,
   "metadata": {},
   "outputs": [
    {
     "data": {
      "text/plain": [
       "'Sex of respondent (0 if male, 1 if female)'"
      ]
     },
     "execution_count": 20,
     "metadata": {},
     "output_type": "execute_result"
    }
   ],
   "source": [
    "big_df[big_df[\"Personal variables\"] == \"FEMALE\"][\"Description\"].values[0]"
   ]
  },
  {
   "cell_type": "code",
   "execution_count": 21,
   "metadata": {},
   "outputs": [
    {
     "data": {
      "text/plain": [
       "[('PRMSTYUN',\n",
       "  88    Mother, uninvolved\n",
       "  Name: Description, dtype: object),\n",
       " ('PRMSTYPE',\n",
       "  89    Mother, permissive\n",
       "  Name: Description, dtype: object),\n",
       " ('PRMSTYAN', Series([], Name: Description, dtype: object)),\n",
       " ('PRMSTYAE',\n",
       "  91    Mother, authoritative\n",
       "  Name: Description, dtype: object),\n",
       " ('PRFSTYUN',\n",
       "  92    Father, uninvolved\n",
       "  Name: Description, dtype: object),\n",
       " ('PRFSTYPE',\n",
       "  93    Father, permissive\n",
       "  Name: Description, dtype: object),\n",
       " ('PRFSTYAN', Series([], Name: Description, dtype: object)),\n",
       " ('PRFSTYAE',\n",
       "  95    Father, authoritative\n",
       "  Name: Description, dtype: object)]"
      ]
     },
     "execution_count": 21,
     "metadata": {},
     "output_type": "execute_result"
    }
   ],
   "source": [
    "[(f\"{i}\",big_df[big_df[\"Personal variables\"]==f\"{i}\"][\"Description\"]) for i in remaining_NA_cols]"
   ]
  },
  {
   "cell_type": "code",
   "execution_count": 22,
   "metadata": {},
   "outputs": [],
   "source": [
    "# for i in remaining_NA_cols:\n",
    "#     df_data[f\"{i}\"] = df_data[f\"{i}\"].astype(\"category\")"
   ]
  },
  {
   "cell_type": "code",
   "execution_count": 23,
   "metadata": {},
   "outputs": [],
   "source": [
    "rem_val = df_data[remaining_NA_cols].mode().iloc[0]"
   ]
  },
  {
   "cell_type": "code",
   "execution_count": 24,
   "metadata": {},
   "outputs": [
    {
     "data": {
      "text/plain": [
       "PRMSTYUN   0.00\n",
       "PRMSTYPE   0.00\n",
       "PRMSTYAN   0.00\n",
       "PRMSTYAE   0.00\n",
       "PRFSTYUN   0.00\n",
       "PRFSTYPE   0.00\n",
       "PRFSTYAN   0.00\n",
       "PRFSTYAE   0.00\n",
       "Name: 0, dtype: float64"
      ]
     },
     "execution_count": 24,
     "metadata": {},
     "output_type": "execute_result"
    }
   ],
   "source": [
    "rem_val"
   ]
  },
  {
   "cell_type": "code",
   "execution_count": 25,
   "metadata": {},
   "outputs": [],
   "source": [
    "for i in range(len(rem_val)):\n",
    "    try:\n",
    "        temp_dict[rem_val.index[i]] = rem_val.values[i]\n",
    "    except:\n",
    "        pass"
   ]
  },
  {
   "cell_type": "code",
   "execution_count": 26,
   "metadata": {},
   "outputs": [
    {
     "data": {
      "text/plain": [
       "{'AGEMBTH': 26.0,\n",
       " 'HHINC97': 246474.0,\n",
       " 'POVRAT97': 1627.0,\n",
       " 'PRMONM': 12.0,\n",
       " 'PRMONF': 8.0,\n",
       " 'PRMSTYUN': 0.0,\n",
       " 'PRMSTYPE': 0.0,\n",
       " 'PRMSTYAN': 0.0,\n",
       " 'PRMSTYAE': 0.0,\n",
       " 'PRFSTYUN': 0.0,\n",
       " 'PRFSTYPE': 0.0,\n",
       " 'PRFSTYAN': 0.0,\n",
       " 'PRFSTYAE': 0.0,\n",
       " 'SFR': 12.0,\n",
       " 'SMR': 12.0,\n",
       " 'JOBS': 4.0}"
      ]
     },
     "execution_count": 26,
     "metadata": {},
     "output_type": "execute_result"
    }
   ],
   "source": [
    "temp_dict"
   ]
  },
  {
   "cell_type": "code",
   "execution_count": 27,
   "metadata": {},
   "outputs": [],
   "source": [
    "# Replacing NaN values\n",
    "for (key,value) in temp_dict.items():\n",
    "    df_data[key].fillna(value, inplace=True)"
   ]
  },
  {
   "cell_type": "code",
   "execution_count": 28,
   "metadata": {},
   "outputs": [
    {
     "data": {
      "text/html": [
       "<div>\n",
       "<style scoped>\n",
       "    .dataframe tbody tr th:only-of-type {\n",
       "        vertical-align: middle;\n",
       "    }\n",
       "\n",
       "    .dataframe tbody tr th {\n",
       "        vertical-align: top;\n",
       "    }\n",
       "\n",
       "    .dataframe thead th {\n",
       "        text-align: right;\n",
       "    }\n",
       "</style>\n",
       "<table border=\"1\" class=\"dataframe\">\n",
       "  <thead>\n",
       "    <tr style=\"text-align: right;\">\n",
       "      <th></th>\n",
       "      <th>Personal variables</th>\n",
       "      <th>Variable Type</th>\n",
       "      <th>Description</th>\n",
       "    </tr>\n",
       "  </thead>\n",
       "  <tbody>\n",
       "    <tr>\n",
       "      <th>80</th>\n",
       "      <td>HHINC97</td>\n",
       "      <td>C</td>\n",
       "      <td>Gross household income, $, in year prior to 19...</td>\n",
       "    </tr>\n",
       "  </tbody>\n",
       "</table>\n",
       "</div>"
      ],
      "text/plain": [
       "   Personal variables Variable Type  \\\n",
       "80            HHINC97             C   \n",
       "\n",
       "                                          Description  \n",
       "80  Gross household income, $, in year prior to 19...  "
      ]
     },
     "execution_count": 28,
     "metadata": {},
     "output_type": "execute_result"
    }
   ],
   "source": [
    "big_df[big_df[\"Personal variables\"] == \"HHINC97\"]"
   ]
  },
  {
   "cell_type": "markdown",
   "metadata": {
    "id": "ZO-86NXbnWSH"
   },
   "source": [
    "## Visualise the Features"
   ]
  },
  {
   "cell_type": "code",
   "execution_count": 29,
   "metadata": {
    "id": "hFZJjbsKncPM"
   },
   "outputs": [],
   "source": [
    "df_data[\"EARNINGS\"] = pd.to_numeric(df_data[\"EARNINGS\"])"
   ]
  },
  {
   "cell_type": "code",
   "execution_count": 30,
   "metadata": {},
   "outputs": [],
   "source": [
    "x_cols = list(df_data.columns)"
   ]
  },
  {
   "cell_type": "code",
   "execution_count": 31,
   "metadata": {},
   "outputs": [],
   "source": [
    "y_cols = [\"EARNINGS\"]"
   ]
  },
  {
   "cell_type": "code",
   "execution_count": 32,
   "metadata": {},
   "outputs": [],
   "source": [
    "x_cols.remove(\"EARNINGS\")"
   ]
  },
  {
   "cell_type": "markdown",
   "metadata": {
    "id": "9i4zHYG4nhDL"
   },
   "source": [
    "# Split Training & Test Dataset\n",
    "\n",
    "We *can't* use all the entries in our dataset to train our model. Keep 20% of the data for later as a testing dataset (out-of-sample data).  "
   ]
  },
  {
   "cell_type": "code",
   "execution_count": 33,
   "metadata": {
    "id": "M_OfRSyunkA1"
   },
   "outputs": [],
   "source": [
    "xtrain, xtest, ytrain, ytest = train_test_split(df_data[x_cols], df_data[y_cols], test_size=0.2, random_state=10)"
   ]
  },
  {
   "cell_type": "markdown",
   "metadata": {
    "id": "EM99NOH0noFS"
   },
   "source": [
    "# Simple Linear Regression\n",
    "\n",
    "Only use the years of schooling to predict earnings. Use sklearn to run the regression on the training dataset. How high is the r-squared for the regression on the training data? "
   ]
  },
  {
   "cell_type": "code",
   "execution_count": 34,
   "metadata": {},
   "outputs": [],
   "source": [
    "from sklearn.metrics import r2_score"
   ]
  },
  {
   "cell_type": "code",
   "execution_count": 35,
   "metadata": {},
   "outputs": [],
   "source": [
    "xtrain_school, xtest_school, ytrain_school, ytest_school = train_test_split(df_data[[\"S\"]], df_data[y_cols], test_size=0.2, random_state=10)"
   ]
  },
  {
   "cell_type": "code",
   "execution_count": 36,
   "metadata": {
    "id": "J_MViuoNnvHf"
   },
   "outputs": [],
   "source": [
    "linear_model_schooling = LinearRegression()\n",
    "linear_model_schooling.fit(xtrain_school,ytrain_school)\n",
    "ytrain_school[\"ytrain_pred\"] = linear_model_schooling.predict(xtrain_school)"
   ]
  },
  {
   "cell_type": "code",
   "execution_count": 37,
   "metadata": {},
   "outputs": [
    {
     "data": {
      "text/html": [
       "<div>\n",
       "<style scoped>\n",
       "    .dataframe tbody tr th:only-of-type {\n",
       "        vertical-align: middle;\n",
       "    }\n",
       "\n",
       "    .dataframe tbody tr th {\n",
       "        vertical-align: top;\n",
       "    }\n",
       "\n",
       "    .dataframe thead th {\n",
       "        text-align: right;\n",
       "    }\n",
       "</style>\n",
       "<table border=\"1\" class=\"dataframe\">\n",
       "  <thead>\n",
       "    <tr style=\"text-align: right;\">\n",
       "      <th></th>\n",
       "      <th>EARNINGS</th>\n",
       "      <th>ytrain_pred</th>\n",
       "    </tr>\n",
       "  </thead>\n",
       "  <tbody>\n",
       "    <tr>\n",
       "      <th>811</th>\n",
       "      <td>5.81</td>\n",
       "      <td>20.79</td>\n",
       "    </tr>\n",
       "    <tr>\n",
       "      <th>1631</th>\n",
       "      <td>26.50</td>\n",
       "      <td>19.53</td>\n",
       "    </tr>\n",
       "    <tr>\n",
       "      <th>337</th>\n",
       "      <td>15.00</td>\n",
       "      <td>19.53</td>\n",
       "    </tr>\n",
       "    <tr>\n",
       "      <th>1467</th>\n",
       "      <td>16.16</td>\n",
       "      <td>20.79</td>\n",
       "    </tr>\n",
       "    <tr>\n",
       "      <th>1561</th>\n",
       "      <td>11.23</td>\n",
       "      <td>20.79</td>\n",
       "    </tr>\n",
       "    <tr>\n",
       "      <th>...</th>\n",
       "      <td>...</td>\n",
       "      <td>...</td>\n",
       "    </tr>\n",
       "    <tr>\n",
       "      <th>1393</th>\n",
       "      <td>37.50</td>\n",
       "      <td>25.82</td>\n",
       "    </tr>\n",
       "    <tr>\n",
       "      <th>1344</th>\n",
       "      <td>17.09</td>\n",
       "      <td>20.79</td>\n",
       "    </tr>\n",
       "    <tr>\n",
       "      <th>527</th>\n",
       "      <td>26.00</td>\n",
       "      <td>18.28</td>\n",
       "    </tr>\n",
       "    <tr>\n",
       "      <th>1149</th>\n",
       "      <td>7.90</td>\n",
       "      <td>15.76</td>\n",
       "    </tr>\n",
       "    <tr>\n",
       "      <th>1289</th>\n",
       "      <td>7.50</td>\n",
       "      <td>14.51</td>\n",
       "    </tr>\n",
       "  </tbody>\n",
       "</table>\n",
       "<p>1600 rows × 2 columns</p>\n",
       "</div>"
      ],
      "text/plain": [
       "      EARNINGS  ytrain_pred\n",
       "811       5.81        20.79\n",
       "1631     26.50        19.53\n",
       "337      15.00        19.53\n",
       "1467     16.16        20.79\n",
       "1561     11.23        20.79\n",
       "...        ...          ...\n",
       "1393     37.50        25.82\n",
       "1344     17.09        20.79\n",
       "527      26.00        18.28\n",
       "1149      7.90        15.76\n",
       "1289      7.50        14.51\n",
       "\n",
       "[1600 rows x 2 columns]"
      ]
     },
     "execution_count": 37,
     "metadata": {},
     "output_type": "execute_result"
    }
   ],
   "source": [
    "ytrain_school"
   ]
  },
  {
   "cell_type": "code",
   "execution_count": 38,
   "metadata": {},
   "outputs": [
    {
     "data": {
      "text/plain": [
       "0.07779049106065195"
      ]
     },
     "execution_count": 38,
     "metadata": {},
     "output_type": "execute_result"
    }
   ],
   "source": [
    "r2_score(ytrain_school.EARNINGS, ytrain_school.ytrain_pred)"
   ]
  },
  {
   "cell_type": "markdown",
   "metadata": {
    "id": "s2TeWKs7oJSa"
   },
   "source": [
    "### Evaluate the Coefficients of the Model\n",
    "\n",
    "Here we do a sense check on our regression coefficients. The first thing to look for is if the coefficients have the expected sign (positive or negative). \n",
    "\n",
    "Interpret the regression. How many extra dollars can one expect to earn for an additional year of schooling?"
   ]
  },
  {
   "cell_type": "code",
   "execution_count": 39,
   "metadata": {
    "id": "QmhzZAmAoW4t"
   },
   "outputs": [],
   "source": [
    "# y = mx + c"
   ]
  },
  {
   "cell_type": "code",
   "execution_count": 40,
   "metadata": {
    "id": "e9hpdAt3oWnq"
   },
   "outputs": [
    {
     "data": {
      "text/plain": [
       "array([[1.2568957]])"
      ]
     },
     "execution_count": 40,
     "metadata": {},
     "output_type": "execute_result"
    }
   ],
   "source": [
    "linear_model_schooling.coef_"
   ]
  },
  {
   "cell_type": "markdown",
   "metadata": {
    "id": "WIyMPXXYobx8"
   },
   "source": [
    "### Analyse the Estimated Values & Regression Residuals\n",
    "\n",
    "How good our regression is also depends on the residuals - the difference between the model's predictions ( 𝑦̂ 𝑖 ) and the true values ( 𝑦𝑖 ) inside y_train. Do you see any patterns in the distribution of the residuals?"
   ]
  },
  {
   "cell_type": "code",
   "execution_count": 41,
   "metadata": {},
   "outputs": [],
   "source": [
    "ytrain_school.EARNINGS = pd.to_numeric(ytrain_school.EARNINGS)"
   ]
  },
  {
   "cell_type": "code",
   "execution_count": 42,
   "metadata": {},
   "outputs": [],
   "source": [
    "ytrain_school['diff'] = ytrain_school.EARNINGS - ytrain_school.ytrain_pred"
   ]
  },
  {
   "cell_type": "code",
   "execution_count": 43,
   "metadata": {},
   "outputs": [
    {
     "data": {
      "text/plain": [
       "<AxesSubplot:ylabel='Frequency'>"
      ]
     },
     "execution_count": 43,
     "metadata": {},
     "output_type": "execute_result"
    },
    {
     "data": {
      "image/png": "[encoded data removed]",
      "text/plain": [
       "<Figure size 432x288 with 1 Axes>"
      ]
     },
     "metadata": {
      "needs_background": "light"
     },
     "output_type": "display_data"
    }
   ],
   "source": [
    "ytrain_school['diff'].plot.hist()"
   ]
  },
  {
   "cell_type": "markdown",
   "metadata": {
    "id": "zNBuJ1iBnvpl"
   },
   "source": [
    "# Multivariable Regression\n",
    "\n",
    "Now use both years of schooling and the years work experience to predict earnings. How high is the r-squared for the regression on the training data? "
   ]
  },
  {
   "cell_type": "code",
   "execution_count": 44,
   "metadata": {
    "id": "Ihq-C4looCSM"
   },
   "outputs": [],
   "source": [
    "xtrain_sch_wexp, xtest_sch_wexp, ytrain_sch_wexp, ytest_sch_wexp = train_test_split(df_data[[\"S\",\"EXP\"]], df_data[y_cols], test_size=0.2, random_state=10)"
   ]
  },
  {
   "cell_type": "code",
   "execution_count": 45,
   "metadata": {
    "id": "dRhB7Iwboyfq"
   },
   "outputs": [],
   "source": [
    "lin_mod_sch_wexp = LinearRegression()\n",
    "lin_mod_sch_wexp.fit(xtrain_sch_wexp, ytrain_sch_wexp)\n",
    "ytrain_sch_wexp[\"pred\"] = lin_mod_sch_wexp.predict(xtrain_sch_wexp)"
   ]
  },
  {
   "cell_type": "code",
   "execution_count": 46,
   "metadata": {},
   "outputs": [
    {
     "data": {
      "text/plain": [
       "0.11145477859925612"
      ]
     },
     "execution_count": 46,
     "metadata": {},
     "output_type": "execute_result"
    }
   ],
   "source": [
    "r2_score(ytrain_sch_wexp.EARNINGS, ytrain_sch_wexp.pred)"
   ]
  },
  {
   "cell_type": "code",
   "execution_count": null,
   "metadata": {},
   "outputs": [],
   "source": []
  },
  {
   "cell_type": "markdown",
   "metadata": {
    "id": "nHDtunM0oyuk"
   },
   "source": [
    "### Evaluate the Coefficients of the Model"
   ]
  },
  {
   "cell_type": "code",
   "execution_count": 47,
   "metadata": {},
   "outputs": [
    {
     "data": {
      "text/plain": [
       "array([[1.826992  , 0.95680635]])"
      ]
     },
     "execution_count": 47,
     "metadata": {},
     "output_type": "execute_result"
    }
   ],
   "source": [
    "lin_mod_sch_wexp.coef_"
   ]
  },
  {
   "cell_type": "code",
   "execution_count": null,
   "metadata": {
    "id": "5vasqInIoydB"
   },
   "outputs": [],
   "source": []
  },
  {
   "cell_type": "markdown",
   "metadata": {
    "id": "Yv8q90IYou2Q"
   },
   "source": [
    "### Analyse the Estimated Values & Regression Residuals"
   ]
  },
  {
   "cell_type": "code",
   "execution_count": 48,
   "metadata": {
    "id": "8NmXnsxfowkI"
   },
   "outputs": [],
   "source": [
    "ytrain_sch_wexp['diff'] = ytrain_sch_wexp.EARNINGS - ytrain_sch_wexp.pred"
   ]
  },
  {
   "cell_type": "code",
   "execution_count": 49,
   "metadata": {
    "id": "0ZZ1e0spo5o1"
   },
   "outputs": [
    {
     "data": {
      "text/plain": [
       "<AxesSubplot:ylabel='Frequency'>"
      ]
     },
     "execution_count": 49,
     "metadata": {},
     "output_type": "execute_result"
    },
    {
     "data": {
      "image/png": "[encoded data removed]",
      "text/plain": [
       "<Figure size 432x288 with 1 Axes>"
      ]
     },
     "metadata": {
      "needs_background": "light"
     },
     "output_type": "display_data"
    }
   ],
   "source": [
    "ytrain_sch_wexp[\"diff\"].plot.hist()"
   ]
  },
  {
   "cell_type": "markdown",
   "metadata": {},
   "source": [
    "# Principal Component Analysis"
   ]
  },
  {
   "cell_type": "code",
   "execution_count": 50,
   "metadata": {},
   "outputs": [],
   "source": [
    "from sklearn.decomposition import PCA"
   ]
  },
  {
   "cell_type": "code",
   "execution_count": 51,
   "metadata": {},
   "outputs": [],
   "source": [
    "pca = PCA().fit(df_data[x_cols])"
   ]
  },
  {
   "cell_type": "code",
   "execution_count": 52,
   "metadata": {},
   "outputs": [
    {
     "data": {
      "text/plain": [
       "array([8.97775654e-01, 1.01707745e-01, 5.15324167e-04, 7.44282637e-07,\n",
       "       4.67584217e-07, 3.37088112e-08, 1.56940119e-08, 3.46504395e-09,\n",
       "       2.10512117e-09, 1.62612286e-09, 1.56881066e-09, 1.40581282e-09,\n",
       "       1.18221722e-09, 8.00583254e-10, 6.85262250e-10, 4.36074542e-10,\n",
       "       3.38573131e-10, 2.87930377e-10, 2.01660436e-10, 1.50159505e-10,\n",
       "       1.16786254e-10, 9.14173952e-11, 7.45987085e-11, 6.31097033e-11,\n",
       "       5.98781263e-11, 5.25027858e-11, 4.92637857e-11, 4.57923954e-11,\n",
       "       4.26463548e-11, 4.09986710e-11, 3.87843545e-11, 3.65633005e-11,\n",
       "       3.40670082e-11, 3.22427591e-11, 3.10170421e-11, 3.01423024e-11,\n",
       "       2.92422329e-11, 2.68164700e-11, 2.55687897e-11, 2.40864550e-11,\n",
       "       2.19346687e-11, 2.13834360e-11, 1.92256790e-11, 1.79629898e-11,\n",
       "       1.71577497e-11, 1.69558947e-11, 1.62676573e-11, 1.56499136e-11,\n",
       "       1.46616761e-11, 1.36460209e-11, 1.14732739e-11, 1.13058031e-11,\n",
       "       1.06972548e-11, 1.00878865e-11, 9.72266240e-12, 9.33060848e-12,\n",
       "       9.10952880e-12, 8.12377598e-12, 7.88133045e-12, 7.27296704e-12,\n",
       "       7.13787793e-12, 6.60128471e-12, 6.46402817e-12, 5.91861641e-12,\n",
       "       4.81571248e-12, 3.99402169e-12, 3.58904671e-12, 3.39184706e-12,\n",
       "       2.87472839e-12, 2.83398078e-12, 1.96167439e-12, 1.59281035e-12,\n",
       "       1.42520868e-12, 1.34110095e-12, 1.13570539e-12, 5.48253749e-13,\n",
       "       2.74874660e-13, 3.43530631e-24, 3.39982985e-24, 2.85793007e-24,\n",
       "       8.46616510e-33, 8.46616510e-33, 8.46616510e-33, 8.46616510e-33,\n",
       "       8.46616510e-33, 8.46616510e-33, 8.46616510e-33, 8.46616510e-33,\n",
       "       8.46616510e-33, 8.46616510e-33, 8.46616510e-33, 8.46616510e-33,\n",
       "       8.46616510e-33, 8.46616510e-33, 8.46596265e-33])"
      ]
     },
     "execution_count": 52,
     "metadata": {},
     "output_type": "execute_result"
    }
   ],
   "source": [
    "pca.explained_variance_ratio_"
   ]
  },
  {
   "cell_type": "code",
   "execution_count": 53,
   "metadata": {},
   "outputs": [
    {
     "data": {
      "text/plain": [
       "<matplotlib.collections.PathCollection at 0x23e9d4cd8b0>"
      ]
     },
     "execution_count": 53,
     "metadata": {},
     "output_type": "execute_result"
    },
    {
     "data": {
      "image/png": "[encoded data removed]",
      "text/plain": [
       "<Figure size 360x360 with 1 Axes>"
      ]
     },
     "metadata": {
      "needs_background": "light"
     },
     "output_type": "display_data"
    }
   ],
   "source": [
    "plt.figure(figsize=(5,5))\n",
    "plt.scatter(x = list(range(1,1+len(pca.explained_variance_ratio_))), y = pca.explained_variance_ratio_, color = 'r')"
   ]
  },
  {
   "cell_type": "code",
   "execution_count": 54,
   "metadata": {},
   "outputs": [],
   "source": [
    "pca_final = PCA(n_components=2).fit_transform(df_data[x_cols])"
   ]
  },
  {
   "cell_type": "code",
   "execution_count": 55,
   "metadata": {},
   "outputs": [
    {
     "data": {
      "text/plain": [
       "array([[-29687.4046093 ,  26057.43174207],\n",
       "       [-87233.81874587,   8101.47875094],\n",
       "       [ -4494.66607677,  -9921.42915881],\n",
       "       ...,\n",
       "       [-14360.04578532, -38603.95470422],\n",
       "       [-24095.57852722,  14844.50333456],\n",
       "       [-52704.65286321, -10984.31907177]])"
      ]
     },
     "execution_count": 55,
     "metadata": {},
     "output_type": "execute_result"
    }
   ],
   "source": [
    "pca_final"
   ]
  },
  {
   "cell_type": "code",
   "execution_count": 56,
   "metadata": {},
   "outputs": [],
   "source": [
    "xtrain, xtest, ytrain, ytest = train_test_split(pca_final, df_data[\"EARNINGS\"], test_size=0.2, random_state=10)"
   ]
  },
  {
   "cell_type": "markdown",
   "metadata": {
    "id": "YWNeoqPLpjVb"
   },
   "source": [
    "# Use Your Model to Make a Prediction\n",
    "\n",
    "How much can someone with a bachelors degree (12 + 4) years of schooling and 5 years work experience expect to earn in 2011?"
   ]
  },
  {
   "cell_type": "code",
   "execution_count": 57,
   "metadata": {
    "id": "Mof-14lCpv60"
   },
   "outputs": [],
   "source": [
    "lin_reg = LinearRegression()"
   ]
  },
  {
   "cell_type": "code",
   "execution_count": 58,
   "metadata": {
    "id": "3htX8_SBpvyb"
   },
   "outputs": [
    {
     "data": {
      "text/plain": [
       "LinearRegression()"
      ]
     },
     "execution_count": 58,
     "metadata": {},
     "output_type": "execute_result"
    }
   ],
   "source": [
    "lin_reg.fit(xtrain, ytrain)"
   ]
  },
  {
   "cell_type": "code",
   "execution_count": 59,
   "metadata": {},
   "outputs": [],
   "source": [
    "ypred = lin_reg.predict(xtest)"
   ]
  },
  {
   "cell_type": "code",
   "execution_count": 60,
   "metadata": {},
   "outputs": [
    {
     "data": {
      "text/plain": [
       "0.10452467483596228"
      ]
     },
     "execution_count": 60,
     "metadata": {},
     "output_type": "execute_result"
    }
   ],
   "source": [
    "r2_score(ytest, ypred)"
   ]
  },
  {
   "cell_type": "code",
   "execution_count": 61,
   "metadata": {},
   "outputs": [
    {
     "data": {
      "image/png": "[encoded data removed]",
      "text/plain": [
       "<Figure size 1080x360 with 1 Axes>"
      ]
     },
     "metadata": {
      "needs_background": "light"
     },
     "output_type": "display_data"
    }
   ],
   "source": [
    "plt.figure(figsize=(15,5))\n",
    "plt.scatter(df_data[\"S\"], df_data[\"EARNINGS\"], color=\"b\")\n",
    "plt.scatter(df_data[\"EXP\"], df_data[\"EARNINGS\"], color=\"r\")\n",
    "plt.show()"
   ]
  },
  {
   "cell_type": "markdown",
   "metadata": {
    "id": "TIYI-eQepDSQ"
   },
   "source": [
    "# Experiment and Investigate Further\n",
    "\n",
    "Which other features could you consider adding to further improve the regression to better predict earnings? "
   ]
  },
  {
   "cell_type": "code",
   "execution_count": 63,
   "metadata": {
    "id": "sd07-pKopJgo"
   },
   "outputs": [
    {
     "data": {
      "text/plain": [
       "<seaborn.axisgrid.PairGrid at 0x23e9d36c1f0>"
      ]
     },
     "execution_count": 63,
     "metadata": {},
     "output_type": "execute_result"
    },
    {
     "data": {
      "image/png": "[encoded data removed]",
      "text/plain": [
       "<Figure size 540x540 with 12 Axes>"
      ]
     },
     "metadata": {
      "needs_background": "light"
     },
     "output_type": "display_data"
    }
   ],
   "source": [
    "sns.pairplot(df_data[[\"S\",\"EXP\",\"EARNINGS\"]])"
   ]
  },
  {
   "cell_type": "code",
   "execution_count": null,
   "metadata": {
    "id": "Fohe2-Rdp1MO"
   },
   "outputs": [],
   "source": []
  }
 ],
 "metadata": {
  "colab": {
   "name": "Determinants of Earnings (start).ipynb",
   "provenance": [],
   "toc_visible": true
  },
  "kernelspec": {
   "display_name": "Python 3",
   "language": "python",
   "name": "python3"
  },
  "language_info": {
   "codemirror_mode": {
    "name": "ipython",
    "version": 3
   },
   "file_extension": ".py",
   "mimetype": "text/x-python",
   "name": "python",
   "nbconvert_exporter": "python",
   "pygments_lexer": "ipython3",
   "version": "3.8.5"
  }
 },
 "nbformat": 4,
 "nbformat_minor": 1
}
